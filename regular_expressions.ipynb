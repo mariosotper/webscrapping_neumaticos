{
 "cells": [
  {
   "cell_type": "markdown",
   "metadata": {},
   "source": [
    "methods: search(), match(), findall(), split(), sub(), compile()\n",
    "\n",
    "metacharacters: ?, . ,(), $"
   ]
  },
  {
   "cell_type": "code",
   "execution_count": 1,
   "metadata": {},
   "outputs": [],
   "source": [
    "#import the moddule\n",
    "import re"
   ]
  },
  {
   "cell_type": "code",
   "execution_count": 2,
   "metadata": {},
   "outputs": [],
   "source": [
    "text ='Contrary to popular belief, Lorem Ipsum is not simply random text. It has roots in a piece of classical Latin literature from 45 BC, making it over 2000 years old. Richard McClintock, a Latin professor at Hampden-Sydney College in Virginia, looked up one of the more obscure Latin words, consectetur, from a Lorem Ipsum passage, and going through the cites of the word in classical literature, discovered the undoubtable source. Lorem Ipsum comes from sections 1.10.32 and 1.10.33 of \"de Finibus Bonorum et Malorum\" (The Extremes of Good and Evil) by Cicero, written in 45 BC. This book is a treatise on the theory of ethics, very popular during the Renaissance. The first line of Lorem Ipsum, \"Lorem ipsum dolor sit amet..\", comes from a line in section 1.10.32.'"
   ]
  },
  {
   "cell_type": "code",
   "execution_count": 3,
   "metadata": {},
   "outputs": [
    {
     "name": "stdout",
     "output_type": "stream",
     "text": [
      "Contrary to popular belief, Lorem Ipsum is not simply random text. It has roots in a piece of classical Latin literature from 45 BC, making it over 2000 years old. Richard McClintock, a Latin professor at Hampden-Sydney College in Virginia, looked up one of the more obscure Latin words, consectetur, from a Lorem Ipsum passage, and going through the cites of the word in classical literature, discovered the undoubtable source. Lorem Ipsum comes from sections 1.10.32 and 1.10.33 of \"de Finibus Bonorum et Malorum\" (The Extremes of Good and Evil) by Cicero, written in 45 BC. This book is a treatise on the theory of ethics, very popular during the Renaissance. The first line of Lorem Ipsum, \"Lorem ipsum dolor sit amet..\", comes from a line in section 1.10.32.\n"
     ]
    }
   ],
   "source": [
    "print(text)"
   ]
  },
  {
   "cell_type": "markdown",
   "metadata": {},
   "source": [
    "# Methods"
   ]
  },
  {
   "cell_type": "markdown",
   "metadata": {},
   "source": [
    "The general syntax for methods in re is\n",
    "\n",
    "    re.method(pattern,text)"
   ]
  },
  {
   "cell_type": "code",
   "execution_count": 4,
   "metadata": {},
   "outputs": [],
   "source": [
    "str1 = 'Hello\\nHi'\n",
    "str2 = r'Hello\\nHi' # rawstring anula "
   ]
  },
  {
   "cell_type": "code",
   "execution_count": 5,
   "metadata": {},
   "outputs": [
    {
     "name": "stdout",
     "output_type": "stream",
     "text": [
      "Hello\n",
      "Hi\n",
      "Hello\\nHi\n"
     ]
    }
   ],
   "source": [
    "print(str1)\n",
    "print(str2)"
   ]
  },
  {
   "cell_type": "markdown",
   "metadata": {},
   "source": [
    "## match"
   ]
  },
  {
   "cell_type": "markdown",
   "metadata": {},
   "source": [
    "the match() method accepts two arguments, the pattern and the text in which the pattern has to be found. this method search and return the pattern only if the pattern is found in the beggining of the string"
   ]
  },
  {
   "cell_type": "code",
   "execution_count": 6,
   "metadata": {},
   "outputs": [
    {
     "data": {
      "text/plain": [
       "<re.Match object; span=(0, 8), match='Contrary'>"
      ]
     },
     "execution_count": 6,
     "metadata": {},
     "output_type": "execute_result"
    }
   ],
   "source": [
    "#searching for the pattern 'Contrary' literally in the string text\n",
    "pat = re.match(r'Contrary',text)\n",
    "pat"
   ]
  },
  {
   "cell_type": "code",
   "execution_count": 7,
   "metadata": {},
   "outputs": [
    {
     "data": {
      "text/plain": [
       "'Contrary'"
      ]
     },
     "execution_count": 7,
     "metadata": {},
     "output_type": "execute_result"
    }
   ],
   "source": [
    "# extracting the match\n",
    "pat.group(0)"
   ]
  },
  {
   "cell_type": "markdown",
   "metadata": {},
   "source": [
    "## search( )"
   ]
  },
  {
   "cell_type": "markdown",
   "metadata": {},
   "source": [
    "the `search()`method accepts two arguments, the pattern and the text in which the patter has to be found. This method searches and returns the first occurence of the pattern wherever the pattern might be in the string"
   ]
  },
  {
   "cell_type": "code",
   "execution_count": 8,
   "metadata": {},
   "outputs": [
    {
     "data": {
      "text/plain": [
       "<re.Match object; span=(231, 239), match='Virginia'>"
      ]
     },
     "execution_count": 8,
     "metadata": {},
     "output_type": "execute_result"
    }
   ],
   "source": [
    "pat = re.search(r'Virginia',text)\n",
    "pat"
   ]
  },
  {
   "cell_type": "code",
   "execution_count": 9,
   "metadata": {},
   "outputs": [
    {
     "data": {
      "text/plain": [
       "'Virginia'"
      ]
     },
     "execution_count": 9,
     "metadata": {},
     "output_type": "execute_result"
    }
   ],
   "source": [
    "pat.group(0)"
   ]
  },
  {
   "cell_type": "code",
   "execution_count": 10,
   "metadata": {},
   "outputs": [
    {
     "data": {
      "text/plain": [
       "<re.Match object; span=(258, 261), match='the'>"
      ]
     },
     "execution_count": 10,
     "metadata": {},
     "output_type": "execute_result"
    }
   ],
   "source": [
    "pat = re.search(r'the', text)\n",
    "pat"
   ]
  },
  {
   "cell_type": "markdown",
   "metadata": {},
   "source": [
    "## findall()"
   ]
  },
  {
   "cell_type": "markdown",
   "metadata": {},
   "source": [
    "this method search for and returns all the patterns which occur in the string"
   ]
  },
  {
   "cell_type": "code",
   "execution_count": 11,
   "metadata": {},
   "outputs": [
    {
     "data": {
      "text/plain": [
       "['the', 'the', 'the', 'the', 'the', 'the', 'the']"
      ]
     },
     "execution_count": 11,
     "metadata": {},
     "output_type": "execute_result"
    }
   ],
   "source": [
    "pat = re.findall(r'the', text)\n",
    "pat"
   ]
  },
  {
   "cell_type": "code",
   "execution_count": 12,
   "metadata": {},
   "outputs": [
    {
     "data": {
      "text/plain": [
       "['Lorem', 'Lorem', 'Lorem', 'Lorem', 'Lorem']"
      ]
     },
     "execution_count": 12,
     "metadata": {},
     "output_type": "execute_result"
    }
   ],
   "source": [
    "pat = re.findall(r'Lorem',text)\n",
    "pat"
   ]
  },
  {
   "cell_type": "markdown",
   "metadata": {},
   "source": [
    "# split()"
   ]
  },
  {
   "cell_type": "markdown",
   "metadata": {},
   "source": [
    "The split() method  in re is used to split the strings not only on delimiters but also on any pattern"
   ]
  },
  {
   "cell_type": "code",
   "execution_count": 13,
   "metadata": {},
   "outputs": [
    {
     "data": {
      "text/plain": [
       "['Contrary to popular belief, ',\n",
       " ' Ipsum is not simply random text. It has roots in a piece of classical Latin literature from 45 BC, making it over 2000 years old. Richard McClintock, a Latin professor at Hampden-Sydney College in Virginia, looked up one of the more obscure Latin words, consectetur, from a ',\n",
       " ' Ipsum passage, and going through the cites of the word in classical literature, discovered the undoubtable source. ',\n",
       " ' Ipsum comes from sections 1.10.32 and 1.10.33 of \"de Finibus Bonorum et Malorum\" (The Extremes of Good and Evil) by Cicero, written in 45 BC. This book is a treatise on the theory of ethics, very popular during the Renaissance. The first line of ',\n",
       " ' Ipsum, \"',\n",
       " ' ipsum dolor sit amet..\", comes from a line in section 1.10.32.']"
      ]
     },
     "execution_count": 13,
     "metadata": {},
     "output_type": "execute_result"
    }
   ],
   "source": [
    "pat = re.split(r'Lorem',text)\n",
    "pat"
   ]
  },
  {
   "cell_type": "markdown",
   "metadata": {},
   "source": [
    "## sub()"
   ]
  },
  {
   "cell_type": "markdown",
   "metadata": {},
   "source": [
    "this method is used to substitute parts of a string with a replacement"
   ]
  },
  {
   "cell_type": "code",
   "execution_count": 14,
   "metadata": {},
   "outputs": [
    {
     "data": {
      "text/plain": [
       "'Contrary to popular belief, Lorem Ipsum is not simply random text. It has roots in a piece of classical Latin literature from 45 BC, making it over 2000 years old. Richard McClintock, a Latin professor at Hampden-Sydney College in Virginia, looked up one of ¨ more obscure Latin words, consectetur, from a Lorem Ipsum passage, and going through ¨ cites of ¨ word in classical literature, discovered ¨ undoubtable source. Lorem Ipsum comes from sections 1.10.32 and 1.10.33 of \"de Finibus Bonorum et Malorum\" (The Extremes of Good and Evil) by Cicero, written in 45 BC. This book is a treatise on ¨ ¨ory of ethics, very popular during ¨ Renaissance. The first line of Lorem Ipsum, \"Lorem ipsum dolor sit amet..\", comes from a line in section 1.10.32.'"
      ]
     },
     "execution_count": 14,
     "metadata": {},
     "output_type": "execute_result"
    }
   ],
   "source": [
    "pat = re.sub(r'the','¨',text)\n",
    "pat"
   ]
  },
  {
   "cell_type": "markdown",
   "metadata": {},
   "source": [
    "## compile()"
   ]
  },
  {
   "cell_type": "markdown",
   "metadata": {},
   "source": [
    "this method is used to save the pattern as a compile object so that it can be used in the future"
   ]
  },
  {
   "cell_type": "code",
   "execution_count": 15,
   "metadata": {},
   "outputs": [
    {
     "data": {
      "text/plain": [
       "re.compile(r'Lorem', re.UNICODE)"
      ]
     },
     "execution_count": 15,
     "metadata": {},
     "output_type": "execute_result"
    }
   ],
   "source": [
    "pat = re. compile(r'Lorem')\n",
    "pat"
   ]
  },
  {
   "cell_type": "code",
   "execution_count": 16,
   "metadata": {},
   "outputs": [
    {
     "data": {
      "text/plain": [
       "['Lorem', 'Lorem', 'Lorem', 'Lorem', 'Lorem']"
      ]
     },
     "execution_count": 16,
     "metadata": {},
     "output_type": "execute_result"
    }
   ],
   "source": [
    "pat.findall(text)"
   ]
  },
  {
   "cell_type": "code",
   "execution_count": 17,
   "metadata": {},
   "outputs": [
    {
     "data": {
      "text/plain": [
       "'Contrary to popular belief, @@ Ipsum is not simply random text. It has roots in a piece of classical Latin literature from 45 BC, making it over 2000 years old. Richard McClintock, a Latin professor at Hampden-Sydney College in Virginia, looked up one of the more obscure Latin words, consectetur, from a @@ Ipsum passage, and going through the cites of the word in classical literature, discovered the undoubtable source. @@ Ipsum comes from sections 1.10.32 and 1.10.33 of \"de Finibus Bonorum et Malorum\" (The Extremes of Good and Evil) by Cicero, written in 45 BC. This book is a treatise on the theory of ethics, very popular during the Renaissance. The first line of @@ Ipsum, \"@@ ipsum dolor sit amet..\", comes from a line in section 1.10.32.'"
      ]
     },
     "execution_count": 17,
     "metadata": {},
     "output_type": "execute_result"
    }
   ],
   "source": [
    "pat.sub('@@', text)"
   ]
  },
  {
   "cell_type": "markdown",
   "metadata": {},
   "source": [
    "# Metacharacters"
   ]
  },
  {
   "cell_type": "markdown",
   "metadata": {},
   "source": [
    "`.` \n",
    "it is used to return every character in the sting"
   ]
  },
  {
   "cell_type": "code",
   "execution_count": 18,
   "metadata": {},
   "outputs": [
    {
     "name": "stdout",
     "output_type": "stream",
     "text": [
      "['C', 'o', 'n', 't', 'r', 'a', 'r', 'y', ' ', 't', 'o', ' ', 'p', 'o', 'p', 'u', 'l', 'a', 'r', ' ', 'b', 'e', 'l', 'i', 'e', 'f', ',', ' ', 'L', 'o', 'r', 'e', 'm', ' ', 'I', 'p', 's', 'u', 'm', ' ', 'i', 's', ' ', 'n', 'o', 't', ' ', 's', 'i', 'm', 'p', 'l', 'y', ' ', 'r', 'a', 'n', 'd', 'o', 'm', ' ', 't', 'e', 'x', 't', '.', ' ', 'I', 't', ' ', 'h', 'a', 's', ' ', 'r', 'o', 'o', 't', 's', ' ', 'i', 'n', ' ', 'a', ' ', 'p', 'i', 'e', 'c', 'e', ' ', 'o', 'f', ' ', 'c', 'l', 'a', 's', 's', 'i', 'c', 'a', 'l', ' ', 'L', 'a', 't', 'i', 'n', ' ', 'l', 'i', 't', 'e', 'r', 'a', 't', 'u', 'r', 'e', ' ', 'f', 'r', 'o', 'm', ' ', '4', '5', ' ', 'B', 'C', ',', ' ', 'm', 'a', 'k', 'i', 'n', 'g', ' ', 'i', 't', ' ', 'o', 'v', 'e', 'r', ' ', '2', '0', '0', '0', ' ', 'y', 'e', 'a', 'r', 's', ' ', 'o', 'l', 'd', '.', ' ', 'R', 'i', 'c', 'h', 'a', 'r', 'd', ' ', 'M', 'c', 'C', 'l', 'i', 'n', 't', 'o', 'c', 'k', ',', ' ', 'a', ' ', 'L', 'a', 't', 'i', 'n', ' ', 'p', 'r', 'o', 'f', 'e', 's', 's', 'o', 'r', ' ', 'a', 't', ' ', 'H', 'a', 'm', 'p', 'd', 'e', 'n', '-', 'S', 'y', 'd', 'n', 'e', 'y', ' ', 'C', 'o', 'l', 'l', 'e', 'g', 'e', ' ', 'i', 'n', ' ', 'V', 'i', 'r', 'g', 'i', 'n', 'i', 'a', ',', ' ', 'l', 'o', 'o', 'k', 'e', 'd', ' ', 'u', 'p', ' ', 'o', 'n', 'e', ' ', 'o', 'f', ' ', 't', 'h', 'e', ' ', 'm', 'o', 'r', 'e', ' ', 'o', 'b', 's', 'c', 'u', 'r', 'e', ' ', 'L', 'a', 't', 'i', 'n', ' ', 'w', 'o', 'r', 'd', 's', ',', ' ', 'c', 'o', 'n', 's', 'e', 'c', 't', 'e', 't', 'u', 'r', ',', ' ', 'f', 'r', 'o', 'm', ' ', 'a', ' ', 'L', 'o', 'r', 'e', 'm', ' ', 'I', 'p', 's', 'u', 'm', ' ', 'p', 'a', 's', 's', 'a', 'g', 'e', ',', ' ', 'a', 'n', 'd', ' ', 'g', 'o', 'i', 'n', 'g', ' ', 't', 'h', 'r', 'o', 'u', 'g', 'h', ' ', 't', 'h', 'e', ' ', 'c', 'i', 't', 'e', 's', ' ', 'o', 'f', ' ', 't', 'h', 'e', ' ', 'w', 'o', 'r', 'd', ' ', 'i', 'n', ' ', 'c', 'l', 'a', 's', 's', 'i', 'c', 'a', 'l', ' ', 'l', 'i', 't', 'e', 'r', 'a', 't', 'u', 'r', 'e', ',', ' ', 'd', 'i', 's', 'c', 'o', 'v', 'e', 'r', 'e', 'd', ' ', 't', 'h', 'e', ' ', 'u', 'n', 'd', 'o', 'u', 'b', 't', 'a', 'b', 'l', 'e', ' ', 's', 'o', 'u', 'r', 'c', 'e', '.', ' ', 'L', 'o', 'r', 'e', 'm', ' ', 'I', 'p', 's', 'u', 'm', ' ', 'c', 'o', 'm', 'e', 's', ' ', 'f', 'r', 'o', 'm', ' ', 's', 'e', 'c', 't', 'i', 'o', 'n', 's', ' ', '1', '.', '1', '0', '.', '3', '2', ' ', 'a', 'n', 'd', ' ', '1', '.', '1', '0', '.', '3', '3', ' ', 'o', 'f', ' ', '\"', 'd', 'e', ' ', 'F', 'i', 'n', 'i', 'b', 'u', 's', ' ', 'B', 'o', 'n', 'o', 'r', 'u', 'm', ' ', 'e', 't', ' ', 'M', 'a', 'l', 'o', 'r', 'u', 'm', '\"', ' ', '(', 'T', 'h', 'e', ' ', 'E', 'x', 't', 'r', 'e', 'm', 'e', 's', ' ', 'o', 'f', ' ', 'G', 'o', 'o', 'd', ' ', 'a', 'n', 'd', ' ', 'E', 'v', 'i', 'l', ')', ' ', 'b', 'y', ' ', 'C', 'i', 'c', 'e', 'r', 'o', ',', ' ', 'w', 'r', 'i', 't', 't', 'e', 'n', ' ', 'i', 'n', ' ', '4', '5', ' ', 'B', 'C', '.', ' ', 'T', 'h', 'i', 's', ' ', 'b', 'o', 'o', 'k', ' ', 'i', 's', ' ', 'a', ' ', 't', 'r', 'e', 'a', 't', 'i', 's', 'e', ' ', 'o', 'n', ' ', 't', 'h', 'e', ' ', 't', 'h', 'e', 'o', 'r', 'y', ' ', 'o', 'f', ' ', 'e', 't', 'h', 'i', 'c', 's', ',', ' ', 'v', 'e', 'r', 'y', ' ', 'p', 'o', 'p', 'u', 'l', 'a', 'r', ' ', 'd', 'u', 'r', 'i', 'n', 'g', ' ', 't', 'h', 'e', ' ', 'R', 'e', 'n', 'a', 'i', 's', 's', 'a', 'n', 'c', 'e', '.', ' ', 'T', 'h', 'e', ' ', 'f', 'i', 'r', 's', 't', ' ', 'l', 'i', 'n', 'e', ' ', 'o', 'f', ' ', 'L', 'o', 'r', 'e', 'm', ' ', 'I', 'p', 's', 'u', 'm', ',', ' ', '\"', 'L', 'o', 'r', 'e', 'm', ' ', 'i', 'p', 's', 'u', 'm', ' ', 'd', 'o', 'l', 'o', 'r', ' ', 's', 'i', 't', ' ', 'a', 'm', 'e', 't', '.', '.', '\"', ',', ' ', 'c', 'o', 'm', 'e', 's', ' ', 'f', 'r', 'o', 'm', ' ', 'a', ' ', 'l', 'i', 'n', 'e', ' ', 'i', 'n', ' ', 's', 'e', 'c', 't', 'i', 'o', 'n', ' ', '1', '.', '1', '0', '.', '3', '2', '.']\n"
     ]
    }
   ],
   "source": [
    "pat = re.findall(r'.',text)\n",
    "print(pat)"
   ]
  },
  {
   "cell_type": "code",
   "execution_count": null,
   "metadata": {},
   "outputs": [],
   "source": []
  }
 ],
 "metadata": {
  "kernelspec": {
   "display_name": "Python 3",
   "language": "python",
   "name": "python3"
  },
  "language_info": {
   "codemirror_mode": {
    "name": "ipython",
    "version": 3
   },
   "file_extension": ".py",
   "mimetype": "text/x-python",
   "name": "python",
   "nbconvert_exporter": "python",
   "pygments_lexer": "ipython3",
   "version": "3.8.1"
  }
 },
 "nbformat": 4,
 "nbformat_minor": 2
}
